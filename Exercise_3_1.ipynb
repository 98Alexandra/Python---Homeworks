{
  "nbformat": 4,
  "nbformat_minor": 0,
  "metadata": {
    "colab": {
      "provenance": [],
      "authorship_tag": "ABX9TyM93g7b4GygMz84Qbz5lV6F"
    },
    "kernelspec": {
      "name": "python3",
      "display_name": "Python 3"
    },
    "language_info": {
      "name": "python"
    }
  },
  "cells": [
    {
      "cell_type": "code",
      "execution_count": 1,
      "metadata": {
        "colab": {
          "base_uri": "https://localhost:8080/"
        },
        "id": "XoE-rFvfpNzK",
        "outputId": "900c1c74-1adb-4294-d766-7ad74f527233"
      },
      "outputs": [
        {
          "output_type": "stream",
          "name": "stdout",
          "text": [
            "+---+---+---+---+---+---+\n",
            "| P | y | t | h | o | n |\n",
            "+---+---+---+---+---+---+\n"
          ]
        }
      ],
      "source": [
        "word = \"Python\"\n",
        "word_length = len(word)\n",
        "\n",
        "# górna ramka\n",
        "print(\"+\" + \"---+\" * word_length)\n",
        "\n",
        "# petla po każdym znaku\n",
        "for char in word:\n",
        "    print(\"| \" + char + \" \", end=\"\") # end=\"\" - zamianst entera na koniec dajemy pusty znak\n",
        "print(\"|\")  # koniec wiersza\n",
        "\n",
        "# dolna ramka\n",
        "print(\"+\" + \"---+\" * word_length)"
      ]
    }
  ]
}