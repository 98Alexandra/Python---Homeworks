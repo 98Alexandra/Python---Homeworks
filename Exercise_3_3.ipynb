{
  "nbformat": 4,
  "nbformat_minor": 0,
  "metadata": {
    "colab": {
      "provenance": [],
      "authorship_tag": "ABX9TyNX5iCNTd0ACmLHsJTzcVW1"
    },
    "kernelspec": {
      "name": "python3",
      "display_name": "Python 3"
    },
    "language_info": {
      "name": "python"
    }
  },
  "cells": [
    {
      "cell_type": "code",
      "execution_count": 1,
      "metadata": {
        "colab": {
          "base_uri": "https://localhost:8080/"
        },
        "id": "c4ehfX2eq2tO",
        "outputId": "5cddec27-3c25-44e4-d837-5f4b78a5d6e1"
      },
      "outputs": [
        {
          "output_type": "stream",
          "name": "stdout",
          "text": [
            "n = 2022\n",
            "x = 3.14159\n",
            "word = Python\n",
            "polish = książka\n",
            "\n"
          ]
        }
      ],
      "source": [
        "import math\n",
        "\n",
        "n = 2022\n",
        "x = round(math.pi, 5)  # Zaokrąglamy wartość pi do 5 miejsc po przecinku\n",
        "word = \"Python\"\n",
        "polish = \"książka\"\n",
        "\n",
        "# Zapisujemy zmienne do pliku\n",
        "with open(\"vars.txt\", \"w\") as file:\n",
        "    file.write(f\"n = {n}\\n\")\n",
        "    file.write(f\"x = {x}\\n\")\n",
        "    file.write(f\"word = {word}\\n\")\n",
        "    file.write(f\"polish = {polish}\\n\")\n",
        "\n",
        "# Odczytujemy zawartość pliku i drukujemy ją na ekranie\n",
        "with open(\"vars.txt\", \"r\") as file:\n",
        "    print(file.read())\n"
      ]
    }
  ]
}