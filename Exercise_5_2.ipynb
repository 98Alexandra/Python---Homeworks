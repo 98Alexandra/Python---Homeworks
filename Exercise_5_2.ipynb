{
  "nbformat": 4,
  "nbformat_minor": 0,
  "metadata": {
    "colab": {
      "provenance": [],
      "authorship_tag": "ABX9TyPgn2vH4YNHHtKK36yL5pMF"
    },
    "kernelspec": {
      "name": "python3",
      "display_name": "Python 3"
    },
    "language_info": {
      "name": "python"
    }
  },
  "cells": [
    {
      "cell_type": "code",
      "execution_count": 2,
      "metadata": {
        "colab": {
          "base_uri": "https://localhost:8080/"
        },
        "id": "HBs-RniJz3JD",
        "outputId": "956074f8-05fb-40bd-800e-2be597aec68c"
      },
      "outputs": [
        {
          "output_type": "stream",
          "name": "stdout",
          "text": [
            "2024-03-01\n",
            "2024-03-04\n",
            "2024-03-05\n",
            "2024-03-06\n",
            "2024-03-07\n",
            "2024-03-08\n",
            "2024-03-11\n",
            "2024-03-12\n",
            "2024-03-13\n",
            "2024-03-14\n"
          ]
        }
      ],
      "source": [
        "from datetime import datetime, timedelta\n",
        "\n",
        "def print_working_days(date1, date2):\n",
        "    # Konwertujemy ciągi znaków daty na obiekty datetime\n",
        "    start_date = datetime.strptime(date1, \"%Y-%m-%d\")\n",
        "    end_date = datetime.strptime(date2, \"%Y-%m-%d\")\n",
        "    current_date = start_date\n",
        "\n",
        "    # Iterujemy po wszystkich dniach między start_date a end_date\n",
        "    while current_date < end_date:\n",
        "        # Sprawdzamy czy aktualna data odpowiada dniu robocze (poniedziałek do piątek)\n",
        "        if current_date.weekday() < 5:  # Liczby od 0 do 4 oznaczają dni robocze (poniedziałek do piątek)\n",
        "            # Wydrukuj aktualną datę w formacie YYYY-MM-DD\n",
        "            print(current_date.strftime(\"%Y-%m-%d\"))\n",
        "\n",
        "        # Przechodzimy do następnego dnia\n",
        "        current_date += timedelta(days=1)\n",
        "\n",
        "print_working_days(\"2024-03-01\", \"2024-03-15\")"
      ]
    }
  ]
}