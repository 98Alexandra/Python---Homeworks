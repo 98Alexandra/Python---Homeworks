{
  "nbformat": 4,
  "nbformat_minor": 0,
  "metadata": {
    "colab": {
      "provenance": [],
      "authorship_tag": "ABX9TyPJFWXuUvc+LnajKcCVMVY2"
    },
    "kernelspec": {
      "name": "python3",
      "display_name": "Python 3"
    },
    "language_info": {
      "name": "python"
    }
  },
  "cells": [
    {
      "cell_type": "code",
      "execution_count": 1,
      "metadata": {
        "colab": {
          "base_uri": "https://localhost:8080/"
        },
        "id": "99fDC3iek13B",
        "outputId": "eefd18a1-5c0a-49c3-a66a-b1e15f1d2aea"
      },
      "outputs": [
        {
          "output_type": "stream",
          "name": "stderr",
          "text": [
            "test_addition (__main__.TestVector) ... ok\n",
            "test_cross_product (__main__.TestVector) ... ok\n",
            "test_dot_product (__main__.TestVector) ... ok\n",
            "test_equality (__main__.TestVector) ... ok\n",
            "test_hash (__main__.TestVector) ... ok\n",
            "test_length (__main__.TestVector) ... ok\n",
            "test_repr (__main__.TestVector) ... ok\n",
            "test_subtraction (__main__.TestVector) ... ok\n",
            "\n",
            "----------------------------------------------------------------------\n",
            "Ran 8 tests in 0.039s\n",
            "\n",
            "OK\n"
          ]
        },
        {
          "output_type": "execute_result",
          "data": {
            "text/plain": [
              "<unittest.main.TestProgram at 0x7e2e35544580>"
            ]
          },
          "metadata": {},
          "execution_count": 1
        }
      ],
      "source": [
        "import math\n",
        "\n",
        "class Vector:\n",
        "    def __init__(self, x, y, z):\n",
        "        self.x = x\n",
        "        self.y = y\n",
        "        self.z = z\n",
        "\n",
        "    def __repr__(self):\n",
        "        return f\"Vector({self.x}, {self.y}, {self.z})\"\n",
        "\n",
        "    def __eq__(self, other):\n",
        "        return self.x == other.x and self.y == other.y and self.z == other.z\n",
        "\n",
        "    def __ne__(self, other):\n",
        "        return not self == other\n",
        "\n",
        "    def __add__(self, other):\n",
        "        return Vector(self.x + other.x, self.y + other.y, self.z + other.z)\n",
        "\n",
        "    def __sub__(self, other):\n",
        "        return Vector(self.x - other.x, self.y - other.y, self.z - other.z)\n",
        "\n",
        "    def __mul__(self, other):\n",
        "        return self.x * other.x + self.y * other.y + self.z * other.z\n",
        "\n",
        "    def cross(self, other):\n",
        "        return Vector(self.y * other.z - self.z * other.y,\n",
        "                      self.z * other.x - self.x * other.z,\n",
        "                      self.x * other.y - self.y * other.x)\n",
        "\n",
        "    def length(self):\n",
        "        return math.sqrt(self.x ** 2 + self.y ** 2 + self.z ** 2)\n",
        "\n",
        "    def __hash__(self):\n",
        "        return hash((self.x, self.y, self.z))\n",
        "\n",
        "import unittest\n",
        "\n",
        "class TestVector(unittest.TestCase):\n",
        "    def setUp(self):\n",
        "        self.v = Vector(10, 20, 30)\n",
        "        self.w = Vector(2, -3, 2)\n",
        "\n",
        "    def test_equality(self):\n",
        "        self.assertNotEqual(self.v, self.w)\n",
        "        self.assertEqual(self.v, Vector(10, 20, 30))\n",
        "\n",
        "    def test_addition(self):\n",
        "        self.assertEqual(self.v + self.w, Vector(12, 17, 32))\n",
        "\n",
        "    def test_subtraction(self):\n",
        "        self.assertEqual(self.v - self.w, Vector(8, 23, 28))\n",
        "\n",
        "    def test_dot_product(self):\n",
        "        self.assertEqual(self.v * self.w, 20)\n",
        "\n",
        "    def test_cross_product(self):\n",
        "        self.assertEqual(self.v.cross(self.w), Vector(130, 40, -70))\n",
        "\n",
        "    def test_length(self):\n",
        "        self.assertAlmostEqual(self.v.length(), math.sqrt(1400))\n",
        "\n",
        "    def test_hash(self):\n",
        "        S = set([self.v, self.v, self.w])\n",
        "        self.assertEqual(len(S), 2)\n",
        "\n",
        "    def test_repr(self):\n",
        "        self.assertEqual(repr(self.v), \"Vector(10, 20, 30)\")\n",
        "\n",
        "# Run the tests\n",
        "unittest.main(argv=[''], verbosity=2, exit=False)"
      ]
    }
  ]
}