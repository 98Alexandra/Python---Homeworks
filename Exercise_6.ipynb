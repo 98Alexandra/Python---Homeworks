{
  "nbformat": 4,
  "nbformat_minor": 0,
  "metadata": {
    "colab": {
      "provenance": [],
      "authorship_tag": "ABX9TyMuahiSwnRs9EpJH/HCRlp0"
    },
    "kernelspec": {
      "name": "python3",
      "display_name": "Python 3"
    },
    "language_info": {
      "name": "python"
    }
  },
  "cells": [
    {
      "cell_type": "code",
      "source": [
        "import math\n",
        "\n",
        "class Vector:\n",
        "    def __init__(self, x, y, z):\n",
        "        self.x = x\n",
        "        self.y = y\n",
        "        self.z = z\n",
        "\n",
        "    def __repr__(self):\n",
        "        return f\"Vector({self.x}, {self.y}, {self.z})\"\n",
        "\n",
        "    def __eq__(self, other):\n",
        "        return self.x == other.x and self.y == other.y and self.z == other.z\n",
        "\n",
        "    def __ne__(self, other):\n",
        "        return not self == other\n",
        "\n",
        "    def __add__(self, other):\n",
        "        return Vector(self.x + other.x, self.y + other.y, self.z + other.z)\n",
        "\n",
        "    def __sub__(self, other):\n",
        "        return Vector(self.x - other.x, self.y - other.y, self.z - other.z)\n",
        "\n",
        "    def __mul__(self, other):\n",
        "        return self.x * other.x + self.y * other.y + self.z * other.z\n",
        "\n",
        "    def cross(self, other):\n",
        "        return Vector(self.y * other.z - self.z * other.y,\n",
        "                      self.z * other.x - self.x * other.z,\n",
        "                      self.x * other.y - self.y * other.x)\n",
        "\n",
        "    def length(self):\n",
        "        return math.sqrt(self.x ** 2 + self.y ** 2 + self.z ** 2)\n",
        "\n",
        "    def __hash__(self):\n",
        "        return hash((self.x, self.y, self.z))\n",
        "\n",
        "# Exemplary tests.\n",
        "v = Vector(10, 20, 30)\n",
        "w = Vector(2, -3, 2)\n",
        "\n",
        "print(v!=w)\n",
        "assert v != w\n",
        "\n",
        "print(v+w)\n",
        "assert v + w == Vector(12, 17, 32)\n",
        "\n",
        "print(v - w)\n",
        "assert v - w == Vector(8, 23, 28)\n",
        "\n",
        "print(v * w)\n",
        "assert v * w == 20\n",
        "\n",
        "print(v.cross(w))\n",
        "assert v.cross(w) == Vector(130, 40, -70)\n",
        "\n",
        "print(v.length())\n",
        "assert v.length() == math.sqrt(1400)\n",
        "S = set([v, v, w])\n",
        "assert len(S) == 2\n",
        "\n",
        "print(\"Tests passed\")"
      ],
      "metadata": {
        "colab": {
          "base_uri": "https://localhost:8080/"
        },
        "id": "2JREHZoljRln",
        "outputId": "7d0cdb86-7dbc-4e42-9a09-aef3e8bec373"
      },
      "execution_count": 7,
      "outputs": [
        {
          "output_type": "stream",
          "name": "stdout",
          "text": [
            "True\n",
            "Vector(12, 17, 32)\n",
            "Vector(8, 23, 28)\n",
            "20\n",
            "Vector(130, 40, -70)\n",
            "37.416573867739416\n",
            "Tests passed\n"
          ]
        }
      ]
    }
  ]
}