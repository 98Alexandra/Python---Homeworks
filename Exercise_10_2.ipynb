{
  "nbformat": 4,
  "nbformat_minor": 0,
  "metadata": {
    "colab": {
      "provenance": [],
      "authorship_tag": "ABX9TyOQP1D539816y90pzPMFEJi"
    },
    "kernelspec": {
      "name": "python3",
      "display_name": "Python 3"
    },
    "language_info": {
      "name": "python"
    }
  },
  "cells": [
    {
      "cell_type": "code",
      "execution_count": 1,
      "metadata": {
        "colab": {
          "base_uri": "https://localhost:8080/"
        },
        "id": "j5jqooknGIZx",
        "outputId": "a133f6ca-696c-44ef-a35e-c2b95939d6b6"
      },
      "outputs": [
        {
          "output_type": "stream",
          "name": "stdout",
          "text": [
            "2024-05-01 22:37:49.966856    -1\n",
            "2024-05-02 22:37:49.966856    17\n",
            "2024-05-03 22:37:49.966856     3\n",
            "2024-05-04 22:37:49.966856    -1\n",
            "2024-05-05 22:37:49.966856    15\n",
            "2024-05-06 22:37:49.966856    12\n",
            "2024-05-07 22:37:49.966856    -9\n",
            "2024-05-08 22:37:49.966856    -8\n",
            "2024-05-09 22:37:49.966856    -9\n",
            "2024-05-10 22:37:49.966856    21\n",
            "2024-05-11 22:37:49.966856    -5\n",
            "2024-05-12 22:37:49.966856     0\n",
            "2024-05-13 22:37:49.966856    13\n",
            "2024-05-14 22:37:49.966856    -3\n",
            "2024-05-15 22:37:49.966856    25\n",
            "2024-05-16 22:37:49.966856     5\n",
            "2024-05-17 22:37:49.966856     0\n",
            "2024-05-18 22:37:49.966856     5\n",
            "2024-05-19 22:37:49.966856     1\n",
            "2024-05-20 22:37:49.966856    -3\n",
            "2024-05-21 22:37:49.966856    -2\n",
            "2024-05-22 22:37:49.966856     5\n",
            "2024-05-23 22:37:49.966856    23\n",
            "2024-05-24 22:37:49.966856     8\n",
            "2024-05-25 22:37:49.966856    19\n",
            "2024-05-26 22:37:49.966856    -2\n",
            "2024-05-27 22:37:49.966856    13\n",
            "2024-05-28 22:37:49.966856    -8\n",
            "2024-05-29 22:37:49.966856    15\n",
            "2024-05-30 22:37:49.966856    11\n",
            "2024-05-31 22:37:49.966856    23\n",
            "Freq: D, dtype: int64\n"
          ]
        }
      ],
      "source": [
        "import numpy as np\n",
        "import pandas as pd\n",
        "\n",
        "# Uzyskanie daty bieżącego dnia\n",
        "current_date = pd.Timestamp.now()\n",
        "\n",
        "# Uzyskanie początku i końca bieżącego miesiąca\n",
        "start_of_month = current_date.replace(day=1)\n",
        "end_of_month = start_of_month + pd.offsets.MonthEnd(0)\n",
        "\n",
        "# Wygenerowanie zakresu dat w bieżącym miesiącu\n",
        "date_range = pd.date_range(start=start_of_month, end=end_of_month, freq='D')\n",
        "\n",
        "# Generowanie losowych danych (temperatury)\n",
        "temperatures = np.random.randint(low=-10, high=30, size=len(date_range))\n",
        "\n",
        "# Utworzenie serii pandas\n",
        "series = pd.Series(temperatures, index=date_range)\n",
        "\n",
        "# Wyświetlenie serii\n",
        "print(series)"
      ]
    }
  ]
}