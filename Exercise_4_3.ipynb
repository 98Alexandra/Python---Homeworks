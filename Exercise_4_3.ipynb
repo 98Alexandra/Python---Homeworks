{
  "nbformat": 4,
  "nbformat_minor": 0,
  "metadata": {
    "colab": {
      "provenance": [],
      "authorship_tag": "ABX9TyN0cHDrkoS2xJJAclH4t+l1"
    },
    "kernelspec": {
      "name": "python3",
      "display_name": "Python 3"
    },
    "language_info": {
      "name": "python"
    }
  },
  "cells": [
    {
      "cell_type": "code",
      "execution_count": null,
      "metadata": {
        "id": "WYTNKMPMaCtY"
      },
      "outputs": [],
      "source": [
        "import itertools\n",
        "\n",
        "# (a) Generator liczb parzystych (0, 2, 4, ...)\n",
        "def iter_even():\n",
        "    number = 0\n",
        "    while True:\n",
        "        yield number\n",
        "        number += 2\n",
        "\n",
        "# (b) Generator liczb nieparzystych (1, 3, 5, ...)\n",
        "def iter_odd():\n",
        "    number = 1\n",
        "    while True:\n",
        "        yield number\n",
        "        number += 2\n",
        "\n",
        "# (c) Generator potęg liczby k (1, k, k*k, k*k*k, ...)\n",
        "def iter_power(k):\n",
        "    number = 1\n",
        "    while True:\n",
        "        yield number\n",
        "        number *= k"
      ]
    }
  ]
}