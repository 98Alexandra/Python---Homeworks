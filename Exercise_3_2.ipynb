{
  "nbformat": 4,
  "nbformat_minor": 0,
  "metadata": {
    "colab": {
      "provenance": [],
      "authorship_tag": "ABX9TyNgml0nYrO1wAYdDK6IvR0W"
    },
    "kernelspec": {
      "name": "python3",
      "display_name": "Python 3"
    },
    "language_info": {
      "name": "python"
    }
  },
  "cells": [
    {
      "cell_type": "code",
      "execution_count": 1,
      "metadata": {
        "colab": {
          "base_uri": "https://localhost:8080/"
        },
        "id": "zTFwGSSJp08r",
        "outputId": "7ec67289-7810-44a6-a031-ef7e5e5f8426"
      },
      "outputs": [
        {
          "output_type": "stream",
          "name": "stdout",
          "text": [
            "1 is not important\n",
            "2 is not important\n",
            "3 is not important\n",
            "4 is not important\n",
            "5 is divided by 5\n",
            "6 is not important\n",
            "7 is divided by 7\n",
            "8 is not important\n",
            "9 is not important\n",
            "10 is divided by 5\n",
            "11 is not important\n",
            "12 is not important\n",
            "14 is divided by 7\n",
            "15 is divided by 5\n",
            "16 is not important\n",
            "17 is not important\n",
            "18 is not important\n",
            "19 is not important\n",
            "20 is divided by 5\n",
            "21 is divided by 7\n",
            "22 is not important\n",
            "23 is not important\n",
            "24 is not important\n",
            "25 is divided by 5\n",
            "26 is not important\n",
            "27 is not important\n",
            "28 is divided by 7\n",
            "29 is not important\n",
            "30 is divided by 5\n",
            "31 is not important\n",
            "32 is not important\n",
            "33 is not important\n",
            "34 is not important\n",
            "35 is divided by 5 and 7\n",
            "36 is not important\n",
            "37 is not important\n",
            "38 is not important\n",
            "39 is not important\n",
            "40 is divided by 5\n"
          ]
        }
      ],
      "source": [
        "x = 1\n",
        "while x <= 40:\n",
        "    if x == 13: #pominięcie 13\n",
        "        x += 1\n",
        "        continue\n",
        "\n",
        "    if x % 5 == 0 and x % 7 == 0:\n",
        "        print(str(x) + ' is divided by 5 and 7')\n",
        "\n",
        "    elif x % 5 == 0:\n",
        "        print(str(x) + ' is divided by 5')\n",
        "\n",
        "    elif x % 7 == 0:\n",
        "        print(str(x) + ' is divided by 7')\n",
        "\n",
        "    else:\n",
        "        print(str(x) + ' is not important')\n",
        "    x += 1\n"
      ]
    },
    {
      "cell_type": "code",
      "source": [
        "for x in range(1, 41):\n",
        "    if x == 13:\n",
        "        continue\n",
        "\n",
        "    if x % 5 == 0 and x % 7 == 0:\n",
        "        print(str(x) + ' is divided by 5 and 7')\n",
        "\n",
        "    elif x % 5 == 0:\n",
        "        print(str(x) + ' is divided by 5')\n",
        "\n",
        "    elif x % 7 == 0:\n",
        "        print(str(x) + ' is divided by 7')\n",
        "\n",
        "    else:\n",
        "        print(str(x) + ' is not important')"
      ],
      "metadata": {
        "colab": {
          "base_uri": "https://localhost:8080/"
        },
        "id": "ZszIm-qfqlvw",
        "outputId": "a6239f67-9b7d-4c34-e67b-1ad7b580b167"
      },
      "execution_count": 2,
      "outputs": [
        {
          "output_type": "stream",
          "name": "stdout",
          "text": [
            "1 is not important\n",
            "2 is not important\n",
            "3 is not important\n",
            "4 is not important\n",
            "5 is divided by 5\n",
            "6 is not important\n",
            "7 is divided by 7\n",
            "8 is not important\n",
            "9 is not important\n",
            "10 is divided by 5\n",
            "11 is not important\n",
            "12 is not important\n",
            "14 is divided by 7\n",
            "15 is divided by 5\n",
            "16 is not important\n",
            "17 is not important\n",
            "18 is not important\n",
            "19 is not important\n",
            "20 is divided by 5\n",
            "21 is divided by 7\n",
            "22 is not important\n",
            "23 is not important\n",
            "24 is not important\n",
            "25 is divided by 5\n",
            "26 is not important\n",
            "27 is not important\n",
            "28 is divided by 7\n",
            "29 is not important\n",
            "30 is divided by 5\n",
            "31 is not important\n",
            "32 is not important\n",
            "33 is not important\n",
            "34 is not important\n",
            "35 is divided by 5 and 7\n",
            "36 is not important\n",
            "37 is not important\n",
            "38 is not important\n",
            "39 is not important\n",
            "40 is divided by 5\n"
          ]
        }
      ]
    }
  ]
}