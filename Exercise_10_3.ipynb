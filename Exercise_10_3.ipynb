{
  "nbformat": 4,
  "nbformat_minor": 0,
  "metadata": {
    "colab": {
      "provenance": [],
      "authorship_tag": "ABX9TyMx+jtMNoHaua28ILJumavk"
    },
    "kernelspec": {
      "name": "python3",
      "display_name": "Python 3"
    },
    "language_info": {
      "name": "python"
    }
  },
  "cells": [
    {
      "cell_type": "code",
      "execution_count": 1,
      "metadata": {
        "colab": {
          "base_uri": "https://localhost:8080/"
        },
        "id": "fsadOuNhGd_e",
        "outputId": "40a5677b-1e35-4f11-e614-1802db7deabe"
      },
      "outputs": [
        {
          "output_type": "stream",
          "name": "stdout",
          "text": [
            "         Name Symbol   Weight\n",
            "1    Hydrogen      H   1.0080\n",
            "2      Helium     He   4.0026\n",
            "3     Lithium     Li   6.9400\n",
            "4   Beryllium     Be   9.0122\n",
            "5       Boron      B  10.8100\n",
            "6      Carbon      C  12.0110\n",
            "7    Nitrogen      N  14.0070\n",
            "8      Oxygen      O  15.9990\n",
            "9    Fluorine      F  18.9980\n",
            "10       Neon     Ne  20.1800\n"
          ]
        }
      ],
      "source": [
        "import pandas as pd\n",
        "\n",
        "# Definiowanie danych dla ramki danych\n",
        "data = {\n",
        "    'Name': ['Hydrogen', 'Helium', 'Lithium', 'Beryllium', 'Boron', 'Carbon', 'Nitrogen', 'Oxygen', 'Fluorine', 'Neon'],\n",
        "    'Symbol': ['H', 'He', 'Li', 'Be', 'B', 'C', 'N', 'O', 'F', 'Ne'],\n",
        "    'Weight': [1.008, 4.0026, 6.94, 9.0122, 10.81, 12.011, 14.007, 15.999, 18.998, 20.180]\n",
        "}\n",
        "\n",
        "# Tworzenie ramki danych pandas\n",
        "df = pd.DataFrame(data, index=range(1, 11))\n",
        "\n",
        "# Wyświetlanie ramki danych\n",
        "print(df)"
      ]
    }
  ]
}