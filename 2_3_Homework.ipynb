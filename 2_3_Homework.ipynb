{
  "nbformat": 4,
  "nbformat_minor": 0,
  "metadata": {
    "colab": {
      "provenance": [],
      "authorship_tag": "ABX9TyP71Vnuew98vhx38Yyo24hp"
    },
    "kernelspec": {
      "name": "python3",
      "display_name": "Python 3"
    },
    "language_info": {
      "name": "python"
    }
  },
  "cells": [
    {
      "cell_type": "code",
      "execution_count": 3,
      "metadata": {
        "colab": {
          "base_uri": "https://localhost:8080/"
        },
        "id": "UG2TzZ2rXU0W",
        "outputId": "64b5051d-4bcd-49c8-9c47-9f47e1513038"
      },
      "outputs": [
        {
          "output_type": "stream",
          "name": "stdout",
          "text": [
            "1373734330\n"
          ]
        }
      ],
      "source": [
        "print(sum((x)**2 for x in range(1, 2021, 2)))"
      ]
    },
    {
      "cell_type": "markdown",
      "source": [
        "wypisz (sumę(x do potęgi 2 w zakresie od 1 do 2021 z krokiem 2))"
      ],
      "metadata": {
        "id": "_U4I0IyVZDqo"
      }
    }
  ]
}