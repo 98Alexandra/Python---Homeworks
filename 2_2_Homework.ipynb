{
  "nbformat": 4,
  "nbformat_minor": 0,
  "metadata": {
    "colab": {
      "provenance": [],
      "authorship_tag": "ABX9TyPe8MZYNTYW+xk8YS7kH0oj"
    },
    "kernelspec": {
      "name": "python3",
      "display_name": "Python 3"
    },
    "language_info": {
      "name": "python"
    }
  },
  "cells": [
    {
      "cell_type": "code",
      "execution_count": 2,
      "metadata": {
        "id": "oGIB5-3GURtx"
      },
      "outputs": [],
      "source": [
        "# Explain the results.\n",
        "x = 5"
      ]
    },
    {
      "cell_type": "markdown",
      "source": [
        "Do x przypisujemy wartość 5"
      ],
      "metadata": {
        "id": "vL4M57X0VOZP"
      }
    },
    {
      "cell_type": "code",
      "source": [
        "x == 5 and 3 + 8   # 11"
      ],
      "metadata": {
        "colab": {
          "base_uri": "https://localhost:8080/"
        },
        "id": "MhLwaQ_DUvGt",
        "outputId": "cf874c7d-c243-4650-cd98-3d771043e0e7"
      },
      "execution_count": 3,
      "outputs": [
        {
          "output_type": "execute_result",
          "data": {
            "text/plain": [
              "11"
            ]
          },
          "metadata": {},
          "execution_count": 3
        }
      ]
    },
    {
      "cell_type": "markdown",
      "source": [
        "sprawdzenie czy x = 5 i jeśli tak to wykonuje dodawanie"
      ],
      "metadata": {
        "id": "HYdwEYSLVWyq"
      }
    },
    {
      "cell_type": "code",
      "source": [
        "x == 4 and 3 + 8   # False"
      ],
      "metadata": {
        "colab": {
          "base_uri": "https://localhost:8080/"
        },
        "id": "jBW8zzkdU3XT",
        "outputId": "c6f9f61f-4bcd-4c15-fd31-70cff394051a"
      },
      "execution_count": 4,
      "outputs": [
        {
          "output_type": "execute_result",
          "data": {
            "text/plain": [
              "False"
            ]
          },
          "metadata": {},
          "execution_count": 4
        }
      ]
    },
    {
      "cell_type": "markdown",
      "source": [
        "x jest równy 5 a nie 4 więc stwierdza fałsz i nie liczy dalej"
      ],
      "metadata": {
        "id": "q_7uSYvfV8ei"
      }
    },
    {
      "cell_type": "code",
      "source": [
        "3 + 8 and x == 5   # True"
      ],
      "metadata": {
        "colab": {
          "base_uri": "https://localhost:8080/"
        },
        "id": "mzF3hhi8U4xv",
        "outputId": "5dec8311-30cd-4edb-8a0c-0fdb03548d1a"
      },
      "execution_count": 5,
      "outputs": [
        {
          "output_type": "execute_result",
          "data": {
            "text/plain": [
              "True"
            ]
          },
          "metadata": {},
          "execution_count": 5
        }
      ]
    },
    {
      "cell_type": "markdown",
      "source": [
        "wykonujemy dodawanie a następnie sprawdzamy czy x jest równe 5, jest równe 5 więc jest to prawdą"
      ],
      "metadata": {
        "id": "BAAfpwkjWNND"
      }
    },
    {
      "cell_type": "code",
      "source": [
        "3 + 8 and x == 4   # False"
      ],
      "metadata": {
        "colab": {
          "base_uri": "https://localhost:8080/"
        },
        "id": "LCsmueAoU6I-",
        "outputId": "a1c68ac4-7b0a-4ea0-efce-481ad45d5cb3"
      },
      "execution_count": 6,
      "outputs": [
        {
          "output_type": "execute_result",
          "data": {
            "text/plain": [
              "False"
            ]
          },
          "metadata": {},
          "execution_count": 6
        }
      ]
    },
    {
      "cell_type": "markdown",
      "source": [
        "wykonujemy dodawanie a następnie sprawdzamy czy x jest równe 4, nie jest równe 4 tylko 5 więc jest to fałszem"
      ],
      "metadata": {
        "id": "GdL79Nn0Wvmb"
      }
    },
    {
      "cell_type": "code",
      "source": [
        "isinstance(True, int)    # True\n",
        "isinstance(True, bool)   # True"
      ],
      "metadata": {
        "id": "IugRFIRBU7pq"
      },
      "execution_count": null,
      "outputs": []
    }
  ]
}