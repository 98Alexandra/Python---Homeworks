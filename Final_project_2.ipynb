{
  "nbformat": 4,
  "nbformat_minor": 0,
  "metadata": {
    "colab": {
      "provenance": [],
      "authorship_tag": "ABX9TyMQf8NCN1iEkkMIG7+fsqMp"
    },
    "kernelspec": {
      "name": "python3",
      "display_name": "Python 3"
    },
    "language_info": {
      "name": "python"
    }
  },
  "cells": [
    {
      "cell_type": "markdown",
      "source": [
        "Import biblioteki"
      ],
      "metadata": {
        "id": "-AMgbLyJfIob"
      }
    },
    {
      "cell_type": "code",
      "source": [
        "import pandas"
      ],
      "metadata": {
        "id": "udp4TgJOfNz6"
      },
      "execution_count": 42,
      "outputs": []
    },
    {
      "cell_type": "markdown",
      "source": [
        "definicja struktury listy książek/filmów/piosenek"
      ],
      "metadata": {
        "id": "x8N9OyfHfTIV"
      }
    },
    {
      "cell_type": "code",
      "source": [
        "media = pandas.DataFrame(columns=['Title', 'Author', 'Year', 'Type', 'Rating', 'Lenght', 'Comment'])"
      ],
      "metadata": {
        "id": "g9mcSINjfYDt"
      },
      "execution_count": 43,
      "outputs": []
    },
    {
      "cell_type": "markdown",
      "source": [
        "**funkcja** - wypisz całą zawartość listy"
      ],
      "metadata": {
        "id": "vebhYlbYfhWZ"
      }
    },
    {
      "cell_type": "code",
      "source": [
        "def list_items(lista):\n",
        "    print(\"Wszystkie pozycje:\")\n",
        "    print(lista)"
      ],
      "metadata": {
        "id": "k3CwEEwgfkNt"
      },
      "execution_count": 44,
      "outputs": []
    },
    {
      "cell_type": "markdown",
      "source": [
        "**użycie** - wypisanie zawartości"
      ],
      "metadata": {
        "id": "nXXz7pupfoju"
      }
    },
    {
      "cell_type": "code",
      "source": [
        "list_items(media)"
      ],
      "metadata": {
        "colab": {
          "base_uri": "https://localhost:8080/"
        },
        "id": "r3omZm5rfpd-",
        "outputId": "2e5b17c5-2405-455f-8dd1-10abe8b0c7e9"
      },
      "execution_count": 45,
      "outputs": [
        {
          "output_type": "stream",
          "name": "stdout",
          "text": [
            "Wszystkie pozycje:\n",
            "Empty DataFrame\n",
            "Columns: [Title, Author, Year, Type, Rating, Lenght, Comment]\n",
            "Index: []\n"
          ]
        }
      ]
    },
    {
      "cell_type": "markdown",
      "source": [
        "**funkcja** - dodaj nową pozycję"
      ],
      "metadata": {
        "id": "OTDnNRuNfvBH"
      }
    },
    {
      "cell_type": "code",
      "source": [
        "def insert_item(lista, title, author, year, typeOf, rating, lenght, comment):\n",
        "    new_entry = {'Title': title, 'Author': author, 'Year': year, 'Type': typeOf, 'Rating' : rating, 'Lenght' : lenght, 'Comment': comment}\n",
        "    lista = pandas.concat([lista, pandas.DataFrame([new_entry])], ignore_index=True)\n",
        "    return lista"
      ],
      "metadata": {
        "id": "YDOzNVgPfv7h"
      },
      "execution_count": 46,
      "outputs": []
    },
    {
      "cell_type": "markdown",
      "source": [
        "**użycie** - dodanie nowych pozycji"
      ],
      "metadata": {
        "id": "XEUDTPdrf91X"
      }
    },
    {
      "cell_type": "code",
      "source": [
        "media = insert_item(media,\"Zabić drozda \",\"Harper Lee\", \"1960\", \"Fikcja\", \"4.8\", \"281\", \" \")\n",
        "media = insert_item(media,\"Rozważna i romantyczna\", \"Jane Austen\", \"1813\", \"Romans\", \"8.9\", \"432\", \" \")\n",
        "media = insert_item(media,\"Igrzyska Śmierci\", \"Suzanne Collins\", \"2008\", \"Science fiction\", \"8.2\", \"374\", \" \")\n",
        "media = insert_item(media,\"1984\", \"George Orwell\", \"1949\", \"Dystopia\", \"9.0\", \"328\", \" \")\n",
        "media = insert_item(media,\"Skazani na Shawshank\", \"Stephen King\", \"1982\", \"Literatura obyczajowa/nowela\", \"8.1\", \"130\", \" \")\n",
        "#media = insert_item(media,\"\")\n",
        "\n",
        "list_items(media)"
      ],
      "metadata": {
        "colab": {
          "base_uri": "https://localhost:8080/"
        },
        "id": "6490g4h3f_kn",
        "outputId": "4564e656-ec9f-4b7a-f71e-2fe0f5c8299a"
      },
      "execution_count": 47,
      "outputs": [
        {
          "output_type": "stream",
          "name": "stdout",
          "text": [
            "Wszystkie pozycje:\n",
            "                    Title           Author  Year  \\\n",
            "0           Zabić drozda        Harper Lee  1960   \n",
            "1  Rozważna i romantyczna      Jane Austen  1813   \n",
            "2        Igrzyska Śmierci  Suzanne Collins  2008   \n",
            "3                    1984    George Orwell  1949   \n",
            "4    Skazani na Shawshank     Stephen King  1982   \n",
            "\n",
            "                           Type Rating Lenght Comment  \n",
            "0                        Fikcja    4.8    281          \n",
            "1                        Romans    8.9    432          \n",
            "2               Science fiction    8.2    374          \n",
            "3                      Dystopia    9.0    328          \n",
            "4  Literatura obyczajowa/nowela    8.1    130          \n"
          ]
        }
      ]
    },
    {
      "cell_type": "markdown",
      "source": [
        "**funkcja** - usuń rekord na podstawie tytułu"
      ],
      "metadata": {
        "id": "SveXVSTSgFuy"
      }
    },
    {
      "cell_type": "code",
      "source": [
        "def remove_item(lista, title, author):\n",
        "\n",
        "    if title is None and author is None:\n",
        "        raise ValueError(\"Musisz podać tytuł lub autora do usunięcia.\")\n",
        "\n",
        "\n",
        "    if title is not None:\n",
        "        lista = lista[lista['Title'] != title]\n",
        "\n",
        "    if author is not None:\n",
        "        lista = lista[lista['Author'] != author]\n",
        "\n",
        "    # Zwracanie zaktualizowanego DataFrame\n",
        "    return lista"
      ],
      "metadata": {
        "id": "91G_hQQOgIur"
      },
      "execution_count": 48,
      "outputs": []
    },
    {
      "cell_type": "markdown",
      "source": [
        "**użycie** - usunięcie wpisu"
      ],
      "metadata": {
        "id": "NbwSDd3BgN0M"
      }
    },
    {
      "cell_type": "code",
      "source": [
        "media = remove_item(media,'Zabić drozda', 'Harper Lee')\n",
        "\n",
        "list_items(media)"
      ],
      "metadata": {
        "colab": {
          "base_uri": "https://localhost:8080/"
        },
        "id": "x7JSgBwHgQr8",
        "outputId": "668148ba-e276-403a-db17-9db00e5b3904"
      },
      "execution_count": 49,
      "outputs": [
        {
          "output_type": "stream",
          "name": "stdout",
          "text": [
            "Wszystkie pozycje:\n",
            "                    Title           Author  Year  \\\n",
            "1  Rozważna i romantyczna      Jane Austen  1813   \n",
            "2        Igrzyska Śmierci  Suzanne Collins  2008   \n",
            "3                    1984    George Orwell  1949   \n",
            "4    Skazani na Shawshank     Stephen King  1982   \n",
            "\n",
            "                           Type Rating Lenght Comment  \n",
            "1                        Romans    8.9    432          \n",
            "2               Science fiction    8.2    374          \n",
            "3                      Dystopia    9.0    328          \n",
            "4  Literatura obyczajowa/nowela    8.1    130          \n"
          ]
        }
      ]
    },
    {
      "cell_type": "markdown",
      "source": [
        "**funkcja** - wyszukaj po tytule"
      ],
      "metadata": {
        "id": "p1lVH16egwr_"
      }
    },
    {
      "cell_type": "code",
      "source": [
        "def search_item(lista, title):\n",
        "    results = lista[lista['Title'].str.contains(title, case=False, na=False)]\n",
        "    if results.empty:\n",
        "        print(f\"Nie znaleziono nic o tytule: '{title}'\")\n",
        "    else:\n",
        "        print(f\"Wyniki wyszukiwania po tytule '{title}':\")\n",
        "        print(results)"
      ],
      "metadata": {
        "id": "GZxUfjYkg0dY"
      },
      "execution_count": 50,
      "outputs": []
    },
    {
      "cell_type": "code",
      "source": [
        "search_item(media, 'Igrzyska Śmierci')\n",
        "search_item(media, 'Zabić drozda')"
      ],
      "metadata": {
        "colab": {
          "base_uri": "https://localhost:8080/"
        },
        "id": "zmlCRQ-cg4B6",
        "outputId": "b0930817-edce-4840-a121-ee7bc1a95d78"
      },
      "execution_count": 51,
      "outputs": [
        {
          "output_type": "stream",
          "name": "stdout",
          "text": [
            "Wyniki wyszukiwania po tytule 'Igrzyska Śmierci':\n",
            "              Title           Author  Year             Type Rating Lenght  \\\n",
            "2  Igrzyska Śmierci  Suzanne Collins  2008  Science fiction    8.2    374   \n",
            "\n",
            "  Comment  \n",
            "2          \n",
            "Nie znaleziono nic o tytule: 'Zabić drozda'\n"
          ]
        }
      ]
    },
    {
      "cell_type": "markdown",
      "source": [
        "**funkcja** - zapisz w pliku (JSON lub CSV)"
      ],
      "metadata": {
        "id": "9K8eaKWjkfLR"
      }
    },
    {
      "cell_type": "code",
      "source": [
        "def save_to_file(lista, filename, filetype='csv'):\n",
        "    if filetype == 'csv':\n",
        "        lista.to_csv(filename, index=False)\n",
        "    elif filetype == 'json':\n",
        "        lista.to_json(filename, orient='records', lines=True)\n",
        "    print(f\"Zapisano jako {filename}\")"
      ],
      "metadata": {
        "id": "jp2TF9l4kh0f"
      },
      "execution_count": 52,
      "outputs": []
    },
    {
      "cell_type": "code",
      "source": [
        "save_to_file(media, 'database.csv', filetype='csv')\n",
        "save_to_file(media, 'database.json', filetype='json')"
      ],
      "metadata": {
        "colab": {
          "base_uri": "https://localhost:8080/"
        },
        "id": "HSJ901Ybkkee",
        "outputId": "c4510f25-7247-4bd7-9f60-f1a9791212b9"
      },
      "execution_count": 53,
      "outputs": [
        {
          "output_type": "stream",
          "name": "stdout",
          "text": [
            "Zapisano jako database.csv\n",
            "Zapisano jako database.json\n"
          ]
        }
      ]
    },
    {
      "cell_type": "code",
      "source": [
        "def clear_database(lista):\n",
        "    lista = pandas.DataFrame(columns=['Title', 'Author', 'Year', 'Type', 'Rating', 'Lenght', 'Comment'])\n",
        "    return lista"
      ],
      "metadata": {
        "id": "cImpDNRcknS0"
      },
      "execution_count": 54,
      "outputs": []
    },
    {
      "cell_type": "code",
      "source": [
        "list_items(media)"
      ],
      "metadata": {
        "colab": {
          "base_uri": "https://localhost:8080/"
        },
        "id": "bV7BnANdkppd",
        "outputId": "3c7356d0-b431-492e-e910-5d5487703d4b"
      },
      "execution_count": 55,
      "outputs": [
        {
          "output_type": "stream",
          "name": "stdout",
          "text": [
            "Wszystkie pozycje:\n",
            "                    Title           Author  Year  \\\n",
            "1  Rozważna i romantyczna      Jane Austen  1813   \n",
            "2        Igrzyska Śmierci  Suzanne Collins  2008   \n",
            "3                    1984    George Orwell  1949   \n",
            "4    Skazani na Shawshank     Stephen King  1982   \n",
            "\n",
            "                           Type Rating Lenght Comment  \n",
            "1                        Romans    8.9    432          \n",
            "2               Science fiction    8.2    374          \n",
            "3                      Dystopia    9.0    328          \n",
            "4  Literatura obyczajowa/nowela    8.1    130          \n"
          ]
        }
      ]
    },
    {
      "cell_type": "code",
      "source": [
        "media = clear_database(media)\n",
        "list_items(media)"
      ],
      "metadata": {
        "colab": {
          "base_uri": "https://localhost:8080/"
        },
        "id": "sBwhasfakt8h",
        "outputId": "5dadaf6c-17ea-4d1a-d76a-6ec0c5042fc7"
      },
      "execution_count": 56,
      "outputs": [
        {
          "output_type": "stream",
          "name": "stdout",
          "text": [
            "Wszystkie pozycje:\n",
            "Empty DataFrame\n",
            "Columns: [Title, Author, Year, Type, Rating, Lenght, Comment]\n",
            "Index: []\n"
          ]
        }
      ]
    },
    {
      "cell_type": "markdown",
      "source": [
        "**funkcja** - załaduj dane do bazy na podstawie pliku (JSON lub CSV)"
      ],
      "metadata": {
        "id": "MzD-2QQJkyc5"
      }
    },
    {
      "cell_type": "code",
      "source": [
        "def load_from_file(filename, filetype='csv'):\n",
        "    if filetype == 'csv':\n",
        "        lista = pandas.read_csv(filename)\n",
        "    elif filetype == 'json':\n",
        "        lista = pandas.read_json(filename, orient='records', lines=True)\n",
        "    print(f\"Odczytano dane z {filename}\")\n",
        "    return lista"
      ],
      "metadata": {
        "id": "5UVLb3ADk0vU"
      },
      "execution_count": 57,
      "outputs": []
    },
    {
      "cell_type": "code",
      "source": [
        "media = load_from_file(filename='database.csv', filetype='csv')\n",
        "list_items(media)\n",
        "media = clear_database(media)"
      ],
      "metadata": {
        "colab": {
          "base_uri": "https://localhost:8080/"
        },
        "id": "lClB4L9ck3J3",
        "outputId": "88e9d104-e1cd-4df3-d297-740acf151c9e"
      },
      "execution_count": 58,
      "outputs": [
        {
          "output_type": "stream",
          "name": "stdout",
          "text": [
            "Odczytano dane z database.csv\n",
            "Wszystkie pozycje:\n",
            "                    Title           Author  Year  \\\n",
            "0  Rozważna i romantyczna      Jane Austen  1813   \n",
            "1        Igrzyska Śmierci  Suzanne Collins  2008   \n",
            "2                    1984    George Orwell  1949   \n",
            "3    Skazani na Shawshank     Stephen King  1982   \n",
            "\n",
            "                           Type  Rating  Lenght Comment  \n",
            "0                        Romans     8.9     432          \n",
            "1               Science fiction     8.2     374          \n",
            "2                      Dystopia     9.0     328          \n",
            "3  Literatura obyczajowa/nowela     8.1     130          \n"
          ]
        }
      ]
    },
    {
      "cell_type": "code",
      "source": [
        "list_items(media)"
      ],
      "metadata": {
        "colab": {
          "base_uri": "https://localhost:8080/"
        },
        "id": "eMN7t8s5k5hG",
        "outputId": "101ab258-8999-4c7e-ca35-73350ac00cb2"
      },
      "execution_count": 59,
      "outputs": [
        {
          "output_type": "stream",
          "name": "stdout",
          "text": [
            "Wszystkie pozycje:\n",
            "Empty DataFrame\n",
            "Columns: [Title, Author, Year, Type, Rating, Lenght, Comment]\n",
            "Index: []\n"
          ]
        }
      ]
    },
    {
      "cell_type": "code",
      "source": [
        "media = load_from_file(filename='database.json', filetype='json')\n",
        "list_items(media)"
      ],
      "metadata": {
        "colab": {
          "base_uri": "https://localhost:8080/"
        },
        "id": "78FH8Dcwk7lG",
        "outputId": "b8af6a4c-8a2e-4f12-b0a3-6551ae2b984e"
      },
      "execution_count": 60,
      "outputs": [
        {
          "output_type": "stream",
          "name": "stdout",
          "text": [
            "Odczytano dane z database.json\n",
            "Wszystkie pozycje:\n",
            "                    Title           Author  Year  \\\n",
            "0  Rozważna i romantyczna      Jane Austen  1813   \n",
            "1        Igrzyska Śmierci  Suzanne Collins  2008   \n",
            "2                    1984    George Orwell  1949   \n",
            "3    Skazani na Shawshank     Stephen King  1982   \n",
            "\n",
            "                           Type  Rating  Lenght Comment  \n",
            "0                        Romans     8.9     432          \n",
            "1               Science fiction     8.2     374          \n",
            "2                      Dystopia     9.0     328          \n",
            "3  Literatura obyczajowa/nowela     8.1     130          \n"
          ]
        }
      ]
    },
    {
      "cell_type": "code",
      "source": [
        "while True:\n",
        "    print(\"\\nMenu:\")\n",
        "    print(\"1. Wyświetl wszystkie elementy\")\n",
        "    print(\"2. Dodaj nowy element\")\n",
        "    print(\"3. Usuń element\")\n",
        "    print(\"4. Wyszukaj element\")\n",
        "    print(\"5. Zapisz do pliku\")\n",
        "    print(\"6. Wyczyść bazę danych\")\n",
        "    print(\"7. Wczytaj z pliku\")\n",
        "    print(\"8. Wyjdź\")\n",
        "\n",
        "    choice = input(\"Wybierz opcję (1-8): \")\n",
        "    match choice:\n",
        "      case '1':\n",
        "          list_items(media)\n",
        "\n",
        "      case '2':\n",
        "          title = input(\"Podaj tytuł: \")\n",
        "          author = input(\"Podaj autora: \")\n",
        "          year = input(\"Podaj rok: \")\n",
        "          typeOf = input(\"Podaj typ (książka, film, piosenka): \")\n",
        "          rating = input(\"Podaj ocenę: \")\n",
        "          lenght = input(\"Podaj długość: \")\n",
        "          comment = input(\"Podaj komentarz: \")\n",
        "          media = insert_item(media, title, author, year, typeOf, rating, lenght, comment)\n",
        "          print(\"Dodano nowy element.\")\n",
        "\n",
        "      case '3':\n",
        "          title = input(\"Podaj tytuł do usunięcia (lub zostaw puste): \")\n",
        "          author = input(\"Podaj autora do usunięcia (lub zostaw puste): \")\n",
        "          media = remove_item(media, title, author)\n",
        "          print(\"Element został usunięty.\")\n",
        "\n",
        "      case '4':\n",
        "          search_item(media, input(\"Podaj tytuł do wyszukania: \"))\n",
        "\n",
        "      case '5':\n",
        "          filename = input(\"Podaj nazwę pliku: \")\n",
        "          filetype = input(\"Podaj typ pliku (csv/json): \").lower()\n",
        "          save_to_file(media, filename+\".\"+filetype, filetype)\n",
        "          print(f\"Baza danych została zapisana do pliku {filename}.\")\n",
        "\n",
        "      case '6':\n",
        "          media = clear_database(media)\n",
        "          print(\"Baza danych została wyczyszczona.\")\n",
        "\n",
        "      case '7':\n",
        "          filename = input(\"Podaj nazwę pliku do wczytania: \")\n",
        "          filetype = input(\"Podaj typ pliku (csv/json): \").lower()\n",
        "          media = load_from_file(filename, filetype)\n",
        "          print(f\"Baza danych została wczytana z pliku {filename}.\")\n",
        "\n",
        "      case '8':\n",
        "          print(\"Do widzenia!\")\n",
        "          break\n",
        "\n",
        "      case _:\n",
        "          print(\"Niepoprawna opcja. Spróbuj ponownie.\")"
      ],
      "metadata": {
        "colab": {
          "base_uri": "https://localhost:8080/"
        },
        "id": "zivkoetq2__m",
        "outputId": "b0a9489f-5052-434e-a374-b18d9ee03b38"
      },
      "execution_count": 61,
      "outputs": [
        {
          "output_type": "stream",
          "name": "stdout",
          "text": [
            "\n",
            "Menu:\n",
            "1. Wyświetl wszystkie elementy\n",
            "2. Dodaj nowy element\n",
            "3. Usuń element\n",
            "4. Wyszukaj element\n",
            "5. Zapisz do pliku\n",
            "6. Wyczyść bazę danych\n",
            "7. Wczytaj z pliku\n",
            "8. Wyjdź\n",
            "Wybierz opcję (1-8): 8\n",
            "Do widzenia!\n"
          ]
        }
      ]
    }
  ]
}