{
  "nbformat": 4,
  "nbformat_minor": 0,
  "metadata": {
    "colab": {
      "provenance": [],
      "authorship_tag": "ABX9TyMOF4UHe9e8OyeEUZGkzrjC"
    },
    "kernelspec": {
      "name": "python3",
      "display_name": "Python 3"
    },
    "language_info": {
      "name": "python"
    }
  },
  "cells": [
    {
      "cell_type": "code",
      "execution_count": 12,
      "metadata": {
        "colab": {
          "base_uri": "https://localhost:8080/"
        },
        "id": "XvAZPIGud3dF",
        "outputId": "d5dccde7-502b-4e55-a587-87667b557425"
      },
      "outputs": [
        {
          "output_type": "stream",
          "name": "stdout",
          "text": [
            "5\n"
          ]
        }
      ],
      "source": [
        "roman_to_arabic = {\"I\": 1, \"IV\": 4,\"V\": 5,\"IX\": 9,\"X\": 10,\"XL\": 40,\"L\": 50,\"XC\": 90,\"C\": 100,\"CD\": 400,\"D\": 500,\"CM\": 900,\"M\": 1000}\n",
        "print(roman_to_arabic['V'])"
      ]
    },
    {
      "cell_type": "code",
      "source": [
        "symbols = [\"I\", \"IV\", \"V\", \"IX\", \"X\", \"XL\", \"L\", \"XC\", \"C\", \"CD\", \"D\", \"CM\", \"M\"]\n",
        "values = [1, 4, 5, 9, 10, 40, 50, 90, 100, 400, 500, 900, 1000]\n",
        "x = dict(zip(symbols, values))\n",
        "print(x['L'])"
      ],
      "metadata": {
        "colab": {
          "base_uri": "https://localhost:8080/"
        },
        "id": "fmRPpaxxqbgd",
        "outputId": "135b47c4-0769-4d27-8cd6-cbfe479809bb"
      },
      "execution_count": 13,
      "outputs": [
        {
          "output_type": "stream",
          "name": "stdout",
          "text": [
            "50\n"
          ]
        }
      ]
    }
  ]
}