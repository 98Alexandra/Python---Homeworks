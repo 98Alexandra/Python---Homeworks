{
  "nbformat": 4,
  "nbformat_minor": 0,
  "metadata": {
    "colab": {
      "provenance": [],
      "authorship_tag": "ABX9TyNv9w3FgczGXo1km2fOPdlW"
    },
    "kernelspec": {
      "name": "python3",
      "display_name": "Python 3"
    },
    "language_info": {
      "name": "python"
    }
  },
  "cells": [
    {
      "cell_type": "code",
      "execution_count": 3,
      "metadata": {
        "colab": {
          "base_uri": "https://localhost:8080/"
        },
        "id": "6ENxQrtyyI6T",
        "outputId": "f662c587-2354-4fd5-8e83-39a6b078fed1"
      },
      "outputs": [
        {
          "output_type": "stream",
          "name": "stdout",
          "text": [
            "Number of bytes taken by PDF files: 0 bytes\n"
          ]
        }
      ],
      "source": [
        "import os\n",
        "\n",
        "def find_pdf_size(top):\n",
        "    total_bytes = 0\n",
        "    # Pobieramy zawartość bieżącego katalogu\n",
        "    contents = os.listdir(top)\n",
        "    for item in contents:\n",
        "        item_path = os.path.join(top, item)\n",
        "        # Sprawdzamy czy element jest plikiem\n",
        "        if os.path.isfile(item_path):\n",
        "            # Sprawdzamy czy plik ma rozszerzenie .pdf\n",
        "            if item.lower().endswith(\".pdf\"):\n",
        "                # Pobieramy rozmiar pliku i dodajemy go do łącznej liczby bajtów\n",
        "                total_bytes += os.path.getsize(item_path)\n",
        "        # Sprawdzamy czy element jest katalogiem\n",
        "        elif os.path.isdir(item_path):\n",
        "            # Rekurencyjnie wywołujemy funkcję find_pdf_size() dla tego katalogu\n",
        "            total_bytes += find_pdf_size(item_path)\n",
        "    return total_bytes\n",
        "\n",
        "print(\"Number of bytes taken by PDF files:\", find_pdf_size(\".\"), \"bytes\")"
      ]
    }
  ]
}