{
  "nbformat": 4,
  "nbformat_minor": 0,
  "metadata": {
    "colab": {
      "provenance": [],
      "authorship_tag": "ABX9TyPkGFq1uXuztZA0tWE1/5RE"
    },
    "kernelspec": {
      "name": "python3",
      "display_name": "Python 3"
    },
    "language_info": {
      "name": "python"
    }
  },
  "cells": [
    {
      "cell_type": "code",
      "execution_count": 1,
      "metadata": {
        "colab": {
          "base_uri": "https://localhost:8080/"
        },
        "id": "Bumhpz6ct45s",
        "outputId": "62e0570f-989f-4059-cef7-8c59ee197e89"
      },
      "outputs": [
        {
          "output_type": "stream",
          "name": "stdout",
          "text": [
            "Vectors v1 and v2 are parallel or zero, cannot find perpendicular vector.\n",
            "Vector(0.8498365855987975, 0.26148818018424536, -0.4576043153224294)\n"
          ]
        }
      ],
      "source": [
        "import math\n",
        "\n",
        "class Vector:\n",
        "    def __init__(self, x, y, z):\n",
        "        self.x = x\n",
        "        self.y = y\n",
        "        self.z = z\n",
        "\n",
        "    def __repr__(self):\n",
        "        return f\"Vector({self.x}, {self.y}, {self.z})\"\n",
        "\n",
        "    def __eq__(self, other):\n",
        "        return self.x == other.x and self.y == other.y and self.z == other.z\n",
        "\n",
        "    def __ne__(self, other):\n",
        "        return not self == other\n",
        "\n",
        "    def __add__(self, other):\n",
        "        return Vector(self.x + other.x, self.y + other.y, self.z + other.z)\n",
        "\n",
        "    def __sub__(self, other):\n",
        "        return Vector(self.x - other.x, self.y - other.y, self.z - other.z)\n",
        "\n",
        "    def __mul__(self, other):\n",
        "        return self.x * other.x + self.y * other.y + self.z * other.z\n",
        "\n",
        "    def cross(self, other):\n",
        "        return Vector(self.y * other.z - self.z * other.y,\n",
        "                      self.z * other.x - self.x * other.z,\n",
        "                      self.x * other.y - self.y * other.x)\n",
        "\n",
        "    def length(self):\n",
        "        return math.sqrt(self.x ** 2 + self.y ** 2 + self.z ** 2)\n",
        "\n",
        "    def __hash__(self):\n",
        "        return hash((self.x, self.y, self.z))\n",
        "\n",
        "    def normalized(self):\n",
        "        length = self.length()\n",
        "        return Vector(self.x / length, self.y / length, self.z / length)\n",
        "\n",
        "def find_axis(v1, v2):\n",
        "    if v1.cross(v2) == Vector(0, 0, 0):\n",
        "        raise ValueError(\"Vectors v1 and v2 are parallel or zero, cannot find perpendicular vector.\")\n",
        "    return v1.cross(v2).normalized()\n",
        "\n",
        "# Exemplary tests.\n",
        "v = Vector(1, 2, 3)\n",
        "w = Vector(-1, -2, -3)\n",
        "\n",
        "try:\n",
        "    print(find_axis(v, w))\n",
        "except ValueError as e:\n",
        "    print(e)\n",
        "\n",
        "v = Vector(10, 20, 30)\n",
        "w = Vector(2, -3, 2)\n",
        "try:\n",
        "    print(find_axis(v, w))\n",
        "except ValueError as e:\n",
        "    print(e)"
      ]
    }
  ]
}