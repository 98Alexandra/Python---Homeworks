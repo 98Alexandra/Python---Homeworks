{
  "nbformat": 4,
  "nbformat_minor": 0,
  "metadata": {
    "colab": {
      "provenance": [],
      "authorship_tag": "ABX9TyOBundXMyLOIq1lIOkfOABX"
    },
    "kernelspec": {
      "name": "python3",
      "display_name": "Python 3"
    },
    "language_info": {
      "name": "python"
    }
  },
  "cells": [
    {
      "cell_type": "code",
      "execution_count": 1,
      "metadata": {
        "colab": {
          "base_uri": "https://localhost:8080/"
        },
        "id": "MpbLD5xyYlVS",
        "outputId": "f60a53f6-aadb-406a-8583-86d64bd0ef6a"
      },
      "outputs": [
        {
          "output_type": "stream",
          "name": "stdout",
          "text": [
            "Punkty w jednostkowym okręgu: [(0.5, 0.5), (0.2, -0.4)]\n",
            "Punkty o dodatnich współrzędnych: [(0.5, 0.5), (3, 3)]\n",
            "Posortowane punkty (y malejąco, x rosnąco): [(-1, 3), (3, 3), (0.5, 0.5), (0.2, -0.4), (-2, -1)]\n",
            "Posortowane punkty według sumy |x|+|y|: [(0.2, -0.4), (0.5, 0.5), (-2, -1), (-1, 3), (3, 3)]\n"
          ]
        }
      ],
      "source": [
        "point_list = [(0.5, 0.5), (-1, 3), (0.2, -0.4), (3, 3), (-2, -1)]\n",
        "\n",
        "# (a) Test czy p jest w jednostkowym (wypełnionym) okręgu\n",
        "circle = lambda p: p[0]**2 + p[1]**2 <= 1  #p oznacza punkt, 1 to promien okregu jednostkowego\n",
        "\n",
        "# (b) Test czy współrzędne p są dodatnie\n",
        "positive = lambda p: p[0] > 0 and p[1] > 0\n",
        "\n",
        "# (c) Klucz sortujący (malejąco względem y, rosnąco względem x)\n",
        "sorting_key_1 = lambda p: (-p[1], p[0])\n",
        "\n",
        "# (d) Klucz sortujący (suma |x|+|y|)\n",
        "sorting_key_2 = lambda p: abs(p[0]) + abs(p[1])\n",
        "\n",
        "# Filtracja za pomocą testów\n",
        "points_in_unit_circle = list(filter((lambda p: p[0]**2 + p[1]**2 <= 1), point_list))\n",
        "positive_coordinates = list(filter((lambda p: p[0] > 0 and p[1] > 0), point_list))\n",
        "\n",
        "print(\"Punkty w jednostkowym okręgu:\", points_in_unit_circle)\n",
        "print(\"Punkty o dodatnich współrzędnych:\", positive_coordinates)\n",
        "\n",
        "# Sorting keys\n",
        "point_list.sort(key=lambda p: (-p[1], p[0]))\n",
        "print(\"Posortowane punkty (y malejąco, x rosnąco):\", point_list)\n",
        "\n",
        "point_list.sort(key=lambda p: abs(p[0]) + abs(p[1]))\n",
        "print(\"Posortowane punkty według sumy |x|+|y|:\", point_list)\n"
      ]
    }
  ]
}