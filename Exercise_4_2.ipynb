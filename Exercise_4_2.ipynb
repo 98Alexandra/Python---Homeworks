{
  "nbformat": 4,
  "nbformat_minor": 0,
  "metadata": {
    "colab": {
      "provenance": [],
      "authorship_tag": "ABX9TyOPGRugfhVnp2iHfMffRHtu"
    },
    "kernelspec": {
      "name": "python3",
      "display_name": "Python 3"
    },
    "language_info": {
      "name": "python"
    }
  },
  "cells": [
    {
      "cell_type": "markdown",
      "source": [
        "iterative versions"
      ],
      "metadata": {
        "id": "T4sl56nZZUAG"
      }
    },
    {
      "cell_type": "code",
      "source": [
        "def reverse_range(L, left, right):\n",
        "    while left < right:\n",
        "        L[left], L[right] = L[right], L[left]\n",
        "        left += 1\n",
        "        right -= 1\n",
        "\n",
        "\n",
        "L = [0, 1, 2, 3, 4, 5, 6, 7, 8, 9]\n",
        "reverse_range(L, 3, 6)\n",
        "print(L)\n"
      ],
      "metadata": {
        "colab": {
          "base_uri": "https://localhost:8080/"
        },
        "id": "JLHPovhhZaQD",
        "outputId": "32783723-fc39-4dce-c5f9-a067b93884d1"
      },
      "execution_count": 1,
      "outputs": [
        {
          "output_type": "stream",
          "name": "stdout",
          "text": [
            "[0, 1, 2, 6, 5, 4, 3, 7, 8, 9]\n"
          ]
        }
      ]
    },
    {
      "cell_type": "markdown",
      "source": [
        "recursive versions"
      ],
      "metadata": {
        "id": "u1cqQ8haZkBV"
      }
    },
    {
      "cell_type": "code",
      "source": [
        "def reverse_range_recursive(L, left, right):\n",
        "    if left >= right:\n",
        "        return\n",
        "    L[left], L[right] = L[right], L[left]\n",
        "    reverse_range_recursive(L, left + 1, right - 1)\n",
        "\n",
        "\n",
        "L = [0, 1, 2, 3, 4, 5, 6, 7, 8, 9]\n",
        "reverse_range_recursive(L, 2, 8)\n",
        "print(L)"
      ],
      "metadata": {
        "colab": {
          "base_uri": "https://localhost:8080/"
        },
        "id": "MzHS-_l3ZkxE",
        "outputId": "89906587-29c8-4e21-b3ba-ad8775bd41a1"
      },
      "execution_count": 2,
      "outputs": [
        {
          "output_type": "stream",
          "name": "stdout",
          "text": [
            "[0, 1, 8, 7, 6, 5, 4, 3, 2, 9]\n"
          ]
        }
      ]
    }
  ]
}