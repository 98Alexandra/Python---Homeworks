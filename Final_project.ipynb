{
  "nbformat": 4,
  "nbformat_minor": 0,
  "metadata": {
    "colab": {
      "provenance": [],
      "authorship_tag": "ABX9TyNyX/+B6eki12aN8B0bXiml"
    },
    "kernelspec": {
      "name": "python3",
      "display_name": "Python 3"
    },
    "language_info": {
      "name": "python"
    }
  },
  "cells": [
    {
      "cell_type": "markdown",
      "source": [
        "Import biblioteki"
      ],
      "metadata": {
        "id": "-AMgbLyJfIob"
      }
    },
    {
      "cell_type": "code",
      "source": [
        "import pandas"
      ],
      "metadata": {
        "id": "udp4TgJOfNz6"
      },
      "execution_count": 1,
      "outputs": []
    },
    {
      "cell_type": "markdown",
      "source": [
        "definicja struktury listy książek/filmów/piosenek"
      ],
      "metadata": {
        "id": "x8N9OyfHfTIV"
      }
    },
    {
      "cell_type": "code",
      "source": [
        "media = pandas.DataFrame(columns=['Title', 'Author', 'Year', 'Type', 'Rating', 'Lenght', 'Comment'])\n",
        "piosenki = pandas.DataFrame(columns=['Title', 'Author', 'Year', 'Type', 'Rating', 'Lenght', 'Comment'])"
      ],
      "metadata": {
        "id": "g9mcSINjfYDt"
      },
      "execution_count": 2,
      "outputs": []
    },
    {
      "cell_type": "markdown",
      "source": [
        "**funkcja** - wypisz całą zawartość listy"
      ],
      "metadata": {
        "id": "vebhYlbYfhWZ"
      }
    },
    {
      "cell_type": "code",
      "source": [
        "def list_items(lista):\n",
        "    print(\"Wszystkie pozycje:\")\n",
        "    print(lista)"
      ],
      "metadata": {
        "id": "k3CwEEwgfkNt"
      },
      "execution_count": 3,
      "outputs": []
    },
    {
      "cell_type": "markdown",
      "source": [
        "**użycie** - wypisanie zawartości"
      ],
      "metadata": {
        "id": "nXXz7pupfoju"
      }
    },
    {
      "cell_type": "code",
      "source": [
        "list_items(media)\n",
        "list_items(piosenki)"
      ],
      "metadata": {
        "colab": {
          "base_uri": "https://localhost:8080/"
        },
        "id": "r3omZm5rfpd-",
        "outputId": "2c364854-72cf-4adf-802b-2e01ac06d88e"
      },
      "execution_count": 4,
      "outputs": [
        {
          "output_type": "stream",
          "name": "stdout",
          "text": [
            "Wszystkie pozycje:\n",
            "Empty DataFrame\n",
            "Columns: [Title, Author, Year, Type, Rating, Lenght, Comment]\n",
            "Index: []\n",
            "Wszystkie pozycje:\n",
            "Empty DataFrame\n",
            "Columns: [Title, Author, Year, Type, Rating, Lenght, Comment]\n",
            "Index: []\n"
          ]
        }
      ]
    },
    {
      "cell_type": "markdown",
      "source": [
        "**funkcja** - dodaj nową pozycję"
      ],
      "metadata": {
        "id": "OTDnNRuNfvBH"
      }
    },
    {
      "cell_type": "code",
      "source": [
        "def insert_item(lista, title, author, year, typeOf, rating, lenght, comment):\n",
        "    new_entry = {'Title': title, 'Author': author, 'Year': year, 'Type': typeOf, 'Rating' : rating, 'Lenght' : lenght, 'Comment': comment}\n",
        "    lista = pandas.concat([lista, pandas.DataFrame([new_entry])], ignore_index=True)\n",
        "    return lista"
      ],
      "metadata": {
        "id": "YDOzNVgPfv7h"
      },
      "execution_count": 5,
      "outputs": []
    },
    {
      "cell_type": "markdown",
      "source": [
        "**użycie** - dodanie nowych pozycji"
      ],
      "metadata": {
        "id": "XEUDTPdrf91X"
      }
    },
    {
      "cell_type": "code",
      "source": [
        "media = insert_item(media,\"Zabić drozda \",\"Harper Lee\", \"1960\", \"Fikcja\", \"4.8\", \"281\", \" \")\n",
        "media = insert_item(media,\"Rozważna i romantyczna\", \"Jane Austen\", \"1813\", \"Romans\", \"8.9\", \"432\", \" \")\n",
        "media = insert_item(media,\"Igrzyska Śmierci\", \"Suzanne Collins\", \"2008\", \"Science fiction\", \"8.2\", \"374\", \" \")\n",
        "media = insert_item(media,\"1984\", \"George Orwell\", \"1949\", \"Dystopia\", \"9.0\", \"328\", \" \")\n",
        "media = insert_item(media,\"Skazani na Shawshank\", \"Stephen King\", \"1982\", \"Literatura obyczajowa/nowela\", \"8.1\", \"130\", \" \")\n",
        "#media = insert_item(media,\"\")\n",
        "\n",
        "list_items(media)"
      ],
      "metadata": {
        "colab": {
          "base_uri": "https://localhost:8080/"
        },
        "id": "6490g4h3f_kn",
        "outputId": "40b28365-4239-4405-a947-5d5cf9fa6e5f"
      },
      "execution_count": 6,
      "outputs": [
        {
          "output_type": "stream",
          "name": "stdout",
          "text": [
            "Wszystkie pozycje:\n",
            "                    Title           Author  Year  \\\n",
            "0           Zabić drozda        Harper Lee  1960   \n",
            "1  Rozważna i romantyczna      Jane Austen  1813   \n",
            "2        Igrzyska Śmierci  Suzanne Collins  2008   \n",
            "3                    1984    George Orwell  1949   \n",
            "4    Skazani na Shawshank     Stephen King  1982   \n",
            "\n",
            "                           Type Rating Lenght Comment  \n",
            "0                        Fikcja    4.8    281          \n",
            "1                        Romans    8.9    432          \n",
            "2               Science fiction    8.2    374          \n",
            "3                      Dystopia    9.0    328          \n",
            "4  Literatura obyczajowa/nowela    8.1    130          \n"
          ]
        }
      ]
    },
    {
      "cell_type": "markdown",
      "source": [
        "**funkcja** - usuń rekord na podstawie tytułu"
      ],
      "metadata": {
        "id": "SveXVSTSgFuy"
      }
    },
    {
      "cell_type": "code",
      "source": [
        "def remove_item(lista, title, author):\n",
        "\n",
        "    if title is None and author is None:\n",
        "        raise ValueError(\"Musisz podać tytuł lub autora do usunięcia.\")\n",
        "\n",
        "\n",
        "    if title is not None:\n",
        "        lista = lista[lista['Title'] != title]\n",
        "\n",
        "    if author is not None:\n",
        "        lista = lista[lista['Author'] != author]\n",
        "\n",
        "    # Zwracanie zaktualizowanego DataFrame\n",
        "    return lista"
      ],
      "metadata": {
        "id": "91G_hQQOgIur"
      },
      "execution_count": 7,
      "outputs": []
    },
    {
      "cell_type": "markdown",
      "source": [
        "**użycie** - usunięcie wpisu"
      ],
      "metadata": {
        "id": "NbwSDd3BgN0M"
      }
    },
    {
      "cell_type": "code",
      "source": [
        "media = remove_item(media,'Zabić drozda', 'Harper Lee')\n",
        "\n",
        "list_items(media)"
      ],
      "metadata": {
        "colab": {
          "base_uri": "https://localhost:8080/"
        },
        "id": "x7JSgBwHgQr8",
        "outputId": "dbad96a4-ff7a-4e0a-ce99-4a368d0b8742"
      },
      "execution_count": 8,
      "outputs": [
        {
          "output_type": "stream",
          "name": "stdout",
          "text": [
            "Wszystkie pozycje:\n",
            "                    Title           Author  Year  \\\n",
            "1  Rozważna i romantyczna      Jane Austen  1813   \n",
            "2        Igrzyska Śmierci  Suzanne Collins  2008   \n",
            "3                    1984    George Orwell  1949   \n",
            "4    Skazani na Shawshank     Stephen King  1982   \n",
            "\n",
            "                           Type Rating Lenght Comment  \n",
            "1                        Romans    8.9    432          \n",
            "2               Science fiction    8.2    374          \n",
            "3                      Dystopia    9.0    328          \n",
            "4  Literatura obyczajowa/nowela    8.1    130          \n"
          ]
        }
      ]
    },
    {
      "cell_type": "markdown",
      "source": [
        "funkcja - wyszukaj po tytule"
      ],
      "metadata": {
        "id": "p1lVH16egwr_"
      }
    },
    {
      "cell_type": "code",
      "source": [
        "def search_item(lista, title):\n",
        "    results = lista[lista['Title'].str.contains(title, case=False, na=False)]\n",
        "    if results.empty:\n",
        "        print(f\"Nie znaleziono nic o tytule: '{title}'\")\n",
        "    else:\n",
        "        print(f\"Wyniki wyszukiwania po tytule '{title}':\")\n",
        "        print(results)"
      ],
      "metadata": {
        "id": "GZxUfjYkg0dY"
      },
      "execution_count": 9,
      "outputs": []
    },
    {
      "cell_type": "code",
      "source": [
        "search_item(media, 'Igrzyska Śmierci')\n",
        "search_item(media, 'Zabić drozda')"
      ],
      "metadata": {
        "colab": {
          "base_uri": "https://localhost:8080/"
        },
        "id": "zmlCRQ-cg4B6",
        "outputId": "54c9e7cd-1f82-4878-c934-a96f7269d1e6"
      },
      "execution_count": 10,
      "outputs": [
        {
          "output_type": "stream",
          "name": "stdout",
          "text": [
            "Wyniki wyszukiwania po tytule 'Igrzyska Śmierci':\n",
            "              Title           Author  Year             Type Rating Lenght  \\\n",
            "2  Igrzyska Śmierci  Suzanne Collins  2008  Science fiction    8.2    374   \n",
            "\n",
            "  Comment  \n",
            "2          \n",
            "Nie znaleziono nic o tytule: 'Zabić drozda'\n"
          ]
        }
      ]
    },
    {
      "cell_type": "markdown",
      "source": [
        "funkcja - zapisz w pliku (JSON lub CSV)"
      ],
      "metadata": {
        "id": "9K8eaKWjkfLR"
      }
    },
    {
      "cell_type": "code",
      "source": [
        "def save_to_file(lista, filename, filetype='csv'):\n",
        "    if filetype == 'csv':\n",
        "        lista.to_csv(filename, index=False)\n",
        "    elif filetype == 'json':\n",
        "        lista.to_json(filename, orient='records', lines=True)\n",
        "    print(f\"Zapisano jako {filename}\")"
      ],
      "metadata": {
        "id": "jp2TF9l4kh0f"
      },
      "execution_count": 11,
      "outputs": []
    },
    {
      "cell_type": "code",
      "source": [
        "save_to_file(media, 'database.csv', filetype='csv')\n",
        "save_to_file(media, 'database.json', filetype='json')"
      ],
      "metadata": {
        "colab": {
          "base_uri": "https://localhost:8080/"
        },
        "id": "HSJ901Ybkkee",
        "outputId": "f2cb1110-fb37-4453-a684-77f7f3b61ddc"
      },
      "execution_count": 12,
      "outputs": [
        {
          "output_type": "stream",
          "name": "stdout",
          "text": [
            "Zapisano jako database.csv\n",
            "Zapisano jako database.json\n"
          ]
        }
      ]
    },
    {
      "cell_type": "code",
      "source": [
        "def clear_database(lista):\n",
        "    lista = pandas.DataFrame(columns=['Title', 'Author', 'Year', 'Type', 'Rating', 'Lenght', 'Comment'])\n",
        "    return lista"
      ],
      "metadata": {
        "id": "cImpDNRcknS0"
      },
      "execution_count": 13,
      "outputs": []
    },
    {
      "cell_type": "code",
      "source": [
        "list_items(media)"
      ],
      "metadata": {
        "colab": {
          "base_uri": "https://localhost:8080/"
        },
        "id": "bV7BnANdkppd",
        "outputId": "719568a3-63d2-42bc-87a2-c3128f6b8727"
      },
      "execution_count": 14,
      "outputs": [
        {
          "output_type": "stream",
          "name": "stdout",
          "text": [
            "Wszystkie pozycje:\n",
            "                    Title           Author  Year  \\\n",
            "1  Rozważna i romantyczna      Jane Austen  1813   \n",
            "2        Igrzyska Śmierci  Suzanne Collins  2008   \n",
            "3                    1984    George Orwell  1949   \n",
            "4    Skazani na Shawshank     Stephen King  1982   \n",
            "\n",
            "                           Type Rating Lenght Comment  \n",
            "1                        Romans    8.9    432          \n",
            "2               Science fiction    8.2    374          \n",
            "3                      Dystopia    9.0    328          \n",
            "4  Literatura obyczajowa/nowela    8.1    130          \n"
          ]
        }
      ]
    },
    {
      "cell_type": "code",
      "source": [
        "media = clear_database(media)\n",
        "list_items(media)"
      ],
      "metadata": {
        "colab": {
          "base_uri": "https://localhost:8080/"
        },
        "id": "sBwhasfakt8h",
        "outputId": "6b0edf00-04b9-41dd-82dc-cf365bc04084"
      },
      "execution_count": 15,
      "outputs": [
        {
          "output_type": "stream",
          "name": "stdout",
          "text": [
            "Wszystkie pozycje:\n",
            "Empty DataFrame\n",
            "Columns: [Title, Author, Year, Type, Rating, Lenght, Comment]\n",
            "Index: []\n"
          ]
        }
      ]
    },
    {
      "cell_type": "markdown",
      "source": [
        "funkcja - załaduj dane do bazy na podstawie pliku (JSON lub CSV)"
      ],
      "metadata": {
        "id": "MzD-2QQJkyc5"
      }
    },
    {
      "cell_type": "code",
      "source": [
        "def load_from_file(filename, filetype='csv'):\n",
        "    if filetype == 'csv':\n",
        "        lista = pandas.read_csv(filename)\n",
        "    elif filetype == 'json':\n",
        "        lista = pandas.read_json(filename, orient='records', lines=True)\n",
        "    print(f\"Odczytano dane z {filename}\")\n",
        "    return lista"
      ],
      "metadata": {
        "id": "5UVLb3ADk0vU"
      },
      "execution_count": 16,
      "outputs": []
    },
    {
      "cell_type": "code",
      "source": [
        "media = load_from_file(filename='database.csv', filetype='csv')\n",
        "list_items(media)\n",
        "media = clear_database(media)"
      ],
      "metadata": {
        "colab": {
          "base_uri": "https://localhost:8080/"
        },
        "id": "lClB4L9ck3J3",
        "outputId": "48f1d53b-ef1a-41ef-a11c-d307083a6d1e"
      },
      "execution_count": 17,
      "outputs": [
        {
          "output_type": "stream",
          "name": "stdout",
          "text": [
            "Odczytano dane z database.csv\n",
            "Wszystkie pozycje:\n",
            "                    Title           Author  Year  \\\n",
            "0  Rozważna i romantyczna      Jane Austen  1813   \n",
            "1        Igrzyska Śmierci  Suzanne Collins  2008   \n",
            "2                    1984    George Orwell  1949   \n",
            "3    Skazani na Shawshank     Stephen King  1982   \n",
            "\n",
            "                           Type  Rating  Lenght Comment  \n",
            "0                        Romans     8.9     432          \n",
            "1               Science fiction     8.2     374          \n",
            "2                      Dystopia     9.0     328          \n",
            "3  Literatura obyczajowa/nowela     8.1     130          \n"
          ]
        }
      ]
    },
    {
      "cell_type": "code",
      "source": [
        "list_items(media)"
      ],
      "metadata": {
        "colab": {
          "base_uri": "https://localhost:8080/"
        },
        "id": "eMN7t8s5k5hG",
        "outputId": "b9fc53d6-d7bc-4705-d5c9-92ff45097a3a"
      },
      "execution_count": 18,
      "outputs": [
        {
          "output_type": "stream",
          "name": "stdout",
          "text": [
            "Wszystkie pozycje:\n",
            "Empty DataFrame\n",
            "Columns: [Title, Author, Year, Type, Rating, Lenght, Comment]\n",
            "Index: []\n"
          ]
        }
      ]
    },
    {
      "cell_type": "code",
      "source": [
        "media = load_from_file(filename='database.json', filetype='json')\n",
        "list_items(media)"
      ],
      "metadata": {
        "colab": {
          "base_uri": "https://localhost:8080/"
        },
        "id": "78FH8Dcwk7lG",
        "outputId": "1af05971-ded9-4f98-bd29-19cf5f668087"
      },
      "execution_count": 19,
      "outputs": [
        {
          "output_type": "stream",
          "name": "stdout",
          "text": [
            "Odczytano dane z database.json\n",
            "Wszystkie pozycje:\n",
            "                    Title           Author  Year  \\\n",
            "0  Rozważna i romantyczna      Jane Austen  1813   \n",
            "1        Igrzyska Śmierci  Suzanne Collins  2008   \n",
            "2                    1984    George Orwell  1949   \n",
            "3    Skazani na Shawshank     Stephen King  1982   \n",
            "\n",
            "                           Type  Rating  Lenght Comment  \n",
            "0                        Romans     8.9     432          \n",
            "1               Science fiction     8.2     374          \n",
            "2                      Dystopia     9.0     328          \n",
            "3  Literatura obyczajowa/nowela     8.1     130          \n"
          ]
        }
      ]
    }
  ]
}