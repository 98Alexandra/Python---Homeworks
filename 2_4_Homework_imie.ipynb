{
  "nbformat": 4,
  "nbformat_minor": 0,
  "metadata": {
    "colab": {
      "provenance": [],
      "authorship_tag": "ABX9TyMzIfX1ZU+fV7fMuIYkOIob"
    },
    "kernelspec": {
      "name": "python3",
      "display_name": "Python 3"
    },
    "language_info": {
      "name": "python"
    }
  },
  "cells": [
    {
      "cell_type": "code",
      "execution_count": 1,
      "metadata": {
        "colab": {
          "base_uri": "https://localhost:8080/"
        },
        "id": "_JJa_tjYDVpJ",
        "outputId": "8e34b7ec-358e-4357-ecbb-c6694dcc931e"
      },
      "outputs": [
        {
          "output_type": "stream",
          "name": "stdout",
          "text": [
            "A 65\n",
            "l 108\n",
            "e 101\n",
            "k 107\n",
            "s 115\n",
            "a 97\n",
            "n 110\n",
            "d 100\n",
            "r 114\n",
            "a 97\n"
          ]
        }
      ],
      "source": [
        "name = 'Aleksandra'\n",
        "for char in name:\n",
        "    print(char, ord(char))   # ASCII code\n"
      ]
    }
  ]
}