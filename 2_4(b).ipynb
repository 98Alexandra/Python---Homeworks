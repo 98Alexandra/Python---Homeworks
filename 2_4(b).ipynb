{
  "nbformat": 4,
  "nbformat_minor": 0,
  "metadata": {
    "colab": {
      "provenance": [],
      "authorship_tag": "ABX9TyNaZOUMynAhKXCzwYNNzWrm"
    },
    "kernelspec": {
      "name": "python3",
      "display_name": "Python 3"
    },
    "language_info": {
      "name": "python"
    }
  },
  "cells": [
    {
      "cell_type": "code",
      "execution_count": 2,
      "metadata": {
        "colab": {
          "base_uri": "https://localhost:8080/"
        },
        "id": "U6JTCxdPk-Pd",
        "outputId": "ceff72dc-8bc3-4ee8-8f3c-6f1ec83e5da7"
      },
      "outputs": [
        {
          "output_type": "stream",
          "name": "stdout",
          "text": [
            "No  Name                 Symbol     Weight\n",
            "+---+--------------------+------+----------+\n",
            "1   Hydrogen               H             1\n",
            "2   Helium                 He            4\n",
            "3   Lithium                Li            7\n",
            "4   Beryllium              Be            9\n",
            "5   Boron                  B            11\n",
            "6   Carbon                 C            12\n",
            "7   Nitrogen               N            14\n",
            "8   Oxygen                 O            16\n",
            "9   Fluorine               F            19\n",
            "10  Neon                   Ne           20\n"
          ]
        }
      ],
      "source": [
        "pt = [\n",
        "    (1, \"Hydrogen\", \"H\", 1),\n",
        "    (2, \"Helium\", \"He\", 4),\n",
        "    (3, \"Lithium\", \"Li\", 7),\n",
        "    (4, \"Beryllium\", \"Be\", 9),\n",
        "    (5, \"Boron\", \"B\", 11),\n",
        "    (6, \"Carbon\", \"C\", 12),\n",
        "    (7, \"Nitrogen\", \"N\", 14),\n",
        "    (8, \"Oxygen\", \"O\", 16),\n",
        "    (9, \"Fluorine\", \"F\", 19),\n",
        "    (10, \"Neon\", \"Ne\", 20)\n",
        "]\n",
        "print(\"{:<3} {:<20} {:^6} {:>10}\".format(\"No\", \"Name\", \"Symbol\", \"Weight\"))\n",
        "print('+---+--------------------+------+----------+')\n",
        "\n",
        "for (n, name, symbol, weight) in pt:\n",
        "    print(\"{:<3} {:<20} {:^6} {:>10}\".format(n, name, symbol, weight))"
      ]
    }
  ]
}