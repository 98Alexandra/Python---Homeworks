{
  "nbformat": 4,
  "nbformat_minor": 0,
  "metadata": {
    "colab": {
      "provenance": [],
      "authorship_tag": "ABX9TyM8SuGGoo8BsKLccrP54qnA"
    },
    "kernelspec": {
      "name": "python3",
      "display_name": "Python 3"
    },
    "language_info": {
      "name": "python"
    }
  },
  "cells": [
    {
      "cell_type": "code",
      "execution_count": 2,
      "metadata": {
        "colab": {
          "base_uri": "https://localhost:8080/"
        },
        "id": "zSKy8b3suhLI",
        "outputId": "1ff9ae12-a863-4723-d41b-c248f93fbb42"
      },
      "outputs": [
        {
          "output_type": "stream",
          "name": "stdout",
          "text": [
            "0\n",
            "1\n",
            "0\n",
            "1\n",
            "0\n",
            "1\n",
            "0\n",
            "1\n",
            "0\n",
            "1\n"
          ]
        }
      ],
      "source": [
        "class ZeroOne:\n",
        "    def __init__(self):\n",
        "        self.current = 1\n",
        "    def __iter__(self):\n",
        "        return self\n",
        "\n",
        "    def __next__(self):\n",
        "        if self.current == 0:\n",
        "            self.current = 1\n",
        "        else:\n",
        "            self.current = 0\n",
        "        return self.current\n",
        "\n",
        "# Przykładowe użycie\n",
        "iterator_a = ZeroOne()\n",
        "for _ in range(10):\n",
        "    print(next(iterator_a))"
      ]
    },
    {
      "cell_type": "code",
      "source": [
        "import random\n",
        "\n",
        "class RandomZeroOne:\n",
        "    def __iter__(self):\n",
        "        return self\n",
        "\n",
        "    def __next__(self):\n",
        "        return random.choice([0, 1])\n",
        "\n",
        "# Przykładowe użycie\n",
        "iterator_b = RandomZeroOne()\n",
        "for _ in range(10):\n",
        "    print(next(iterator_b))"
      ],
      "metadata": {
        "colab": {
          "base_uri": "https://localhost:8080/"
        },
        "id": "9gIPhYx1uoik",
        "outputId": "d3ef08c3-4f52-49d4-c7db-1fc5b6f924e5"
      },
      "execution_count": 3,
      "outputs": [
        {
          "output_type": "stream",
          "name": "stdout",
          "text": [
            "1\n",
            "0\n",
            "1\n",
            "1\n",
            "0\n",
            "0\n",
            "0\n",
            "1\n",
            "0\n",
            "0\n"
          ]
        }
      ]
    },
    {
      "cell_type": "code",
      "source": [
        "def zero_one_minus_one():\n",
        "    while True:\n",
        "        yield 0\n",
        "        yield 1\n",
        "        yield 0\n",
        "        yield -1\n",
        "\n",
        "# Przykładowe użycie\n",
        "iterator_c = zero_one_minus_one()\n",
        "for _ in range(10):\n",
        "    print(next(iterator_c))"
      ],
      "metadata": {
        "colab": {
          "base_uri": "https://localhost:8080/"
        },
        "id": "TI3uHLHuuqzP",
        "outputId": "f0f42cc1-9fa8-4478-b089-121f4ff6add8"
      },
      "execution_count": 4,
      "outputs": [
        {
          "output_type": "stream",
          "name": "stdout",
          "text": [
            "0\n",
            "1\n",
            "0\n",
            "-1\n",
            "0\n",
            "1\n",
            "0\n",
            "-1\n",
            "0\n",
            "1\n"
          ]
        }
      ]
    }
  ]
}