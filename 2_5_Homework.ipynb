{
  "nbformat": 4,
  "nbformat_minor": 0,
  "metadata": {
    "colab": {
      "provenance": [],
      "authorship_tag": "ABX9TyPx2/UUDdxFRXEweQshHu1a"
    },
    "kernelspec": {
      "name": "python3",
      "display_name": "Python 3"
    },
    "language_info": {
      "name": "python"
    }
  },
  "cells": [
    {
      "cell_type": "code",
      "execution_count": 3,
      "metadata": {
        "colab": {
          "base_uri": "https://localhost:8080/"
        },
        "id": "TiI9mAP_rk8N",
        "outputId": "1ce5a959-f328-4b59-fade-86fca8267672"
      },
      "outputs": [
        {
          "output_type": "stream",
          "name": "stdout",
          "text": [
            "Liczba czarnych znaków w S: 573\n",
            "Liczba słów w S: 101\n",
            "Najdłuższe słowo w S: exercitationem\n",
            "Słowa ze S posortowane leksykograficznie: ['Est', 'Est', 'Et', 'Et', 'Lorem', 'Non', 'Non', 'Quo', 'accusamus', 'accusantium', 'accusantium?', 'ad', 'alias', 'aliquam', 'amet.', 'aperiam', 'aut', 'aut', 'aut', 'aut', 'aut', 'beatae.', 'blanditiis', 'consectetur', 'consequuntur', 'delectus', 'deserunt', 'dicta', 'dicta', 'dolor', 'dolores', 'dolorum', 'dolorum', 'dolorum', 'ducimus', 'ea', 'eaque', 'enim', 'esse', 'esse', 'est', 'est', 'est', 'et', 'et', 'et', 'et', 'et', 'eum', 'exercitationem', 'fuga', 'galisum', 'id', 'impedit.', 'in', 'internos', 'ipsa.', 'ipsum', 'magnam', 'magni.', 'natus', 'nihil', 'nobis', 'non', 'numquam', 'numquam', 'odio', 'odit', 'pariatur', 'pariatur', 'praesentium', 'quae?', 'qui', 'qui', 'qui', 'qui', 'quibusdam', 'quisquam', 'quod', 'reiciendis', 'repellat', 'reprehenderit', 'reprehenderit', 'saepe', 'sapiente', 'sint', 'sint', 'sit', 'sit', 'sit', 'temporibus', 'ullam', 'ullam', 'ullam.', 'velit', 'velit', 'voluptas', 'voluptate', 'voluptatem', 'voluptates', 'voluptates']\n",
            "Słowa ze S posortowane według długości: ['Et', 'in', 'id', 'et', 'ad', 'et', 'et', 'ea', 'et', 'Et', 'et', 'sit', 'est', 'est', 'non', 'aut', 'Est', 'qui', 'Est', 'qui', 'sit', 'Quo', 'qui', 'Non', 'aut', 'qui', 'sit', 'Non', 'aut', 'est', 'aut', 'aut', 'eum', 'sint', 'quod', 'fuga', 'odio', 'esse', 'sint', 'enim', 'esse', 'odit', 'Lorem', 'ipsum', 'dolor', 'amet.', 'velit', 'nobis', 'dicta', 'nihil', 'ullam', 'ipsa.', 'natus', 'dicta', 'velit', 'ullam', 'saepe', 'eaque', 'alias', 'quae?', 'magni.', 'ullam.', 'magnam', 'ducimus', 'dolorum', 'aperiam', 'dolorum', 'numquam', 'beatae.', 'numquam', 'dolorum', 'dolores', 'galisum', 'aliquam', 'repellat', 'internos', 'deserunt', 'quisquam', 'pariatur', 'delectus', 'pariatur', 'impedit.', 'voluptas', 'sapiente', 'voluptate', 'quibusdam', 'accusamus', 'voluptates', 'temporibus', 'voluptates', 'reiciendis', 'blanditiis', 'voluptatem', 'accusantium', 'consectetur', 'praesentium', 'consequuntur', 'accusantium?', 'reprehenderit', 'reprehenderit', 'exercitationem']\n"
          ]
        }
      ],
      "source": [
        "S = \"Lorem ipsum dolor sit amet. Et voluptates velit est sint temporibus est ducimus repellat non nobis quod aut dicta magni. Est reprehenderit dolorum in internos nihil qui ullam aperiam id dolorum fuga et accusantium ipsa. Est natus consequuntur qui deserunt quisquam sit pariatur ullam. Quo odio esse qui reprehenderit numquam ad sint beatae. Non enim exercitationem et numquam voluptates aut consectetur dolorum qui dicta reiciendis sit esse accusantium? Non dolores galisum et velit praesentium aut voluptate ullam ea blanditiis delectus et saepe pariatur est odit impedit. Et voluptas aliquam aut eaque magnam aut alias sapiente eum voluptatem quibusdam et accusamus quae?\"\n",
        "\n",
        "# 1\n",
        "black_character_count = sum(1 for char in S if not char.isspace())\n",
        "\n",
        "# 2\n",
        "words = S.split()\n",
        "word_count = len(words)\n",
        "\n",
        "# 3\n",
        "longest_word = max(words, key=len)\n",
        "\n",
        "# 4\n",
        "lexicographically_sorted_words = sorted(words)\n",
        "\n",
        "# 5\n",
        "length_sorted_words = sorted(words, key=len)\n",
        "\n",
        "print(\"Liczba czarnych znaków w S:\", black_character_count)\n",
        "print(\"Liczba słów w S:\", word_count)\n",
        "print(\"Najdłuższe słowo w S:\", longest_word)\n",
        "print(\"Słowa ze S posortowane leksykograficznie:\", lexicographically_sorted_words)\n",
        "print(\"Słowa ze S posortowane według długości:\", length_sorted_words)\n"
      ]
    }
  ]
}